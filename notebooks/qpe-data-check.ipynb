{
 "cells": [
  {
   "cell_type": "markdown",
   "metadata": {},
   "source": [
    "# QPE data check\n",
    "\n",
    "A quick notebook to check the domain and nodata values for all QPE data we want to support.\n",
    "\n",
    "## Python requirements\n",
    "\n",
    "- matplotlib\n",
    "- numpy\n",
    "- pandas\n",
    "- requests\n",
    "- rasterio\n",
    "- tabulate"
   ]
  },
  {
   "cell_type": "code",
   "execution_count": 1,
   "metadata": {},
   "outputs": [
    {
     "name": "stdout",
     "output_type": "stream",
     "text": [
      "Downloading https://mrms.ncep.noaa.gov/data/2D/MultiSensor_QPE_01H_Pass1/MRMS_MultiSensor_QPE_01H_Pass1.latest.grib2.gz to data/MultiSensor_QPE_01H_Pass1.grib2\n",
      "Downloading https://mrms.ncep.noaa.gov/data/2D/ALASKA/MultiSensor_QPE_01H_Pass1/MRMS_MultiSensor_QPE_01H_Pass1.latest.grib2.gz to data/MultiSensor_QPE_01H_Pass1_ALASKA.grib2\n",
      "Downloading https://mrms.ncep.noaa.gov/data/2D/CARIB/MultiSensor_QPE_01H_Pass1/MRMS_MultiSensor_QPE_01H_Pass1.latest.grib2.gz to data/MultiSensor_QPE_01H_Pass1_CARIB.grib2\n",
      "Downloading https://mrms.ncep.noaa.gov/data/2D/GUAM/MultiSensor_QPE_01H_Pass1/MRMS_MultiSensor_QPE_01H_Pass1.latest.grib2.gz to data/MultiSensor_QPE_01H_Pass1_GUAM.grib2\n",
      "Downloading https://mrms.ncep.noaa.gov/data/2D/HAWAII/MultiSensor_QPE_01H_Pass1/MRMS_MultiSensor_QPE_01H_Pass1.latest.grib2.gz to data/MultiSensor_QPE_01H_Pass1_HAWAII.grib2\n",
      "Downloading https://mrms.ncep.noaa.gov/data/2D/MultiSensor_QPE_01H_Pass2/MRMS_MultiSensor_QPE_01H_Pass2.latest.grib2.gz to data/MultiSensor_QPE_01H_Pass2.grib2\n",
      "Downloading https://mrms.ncep.noaa.gov/data/2D/ALASKA/MultiSensor_QPE_01H_Pass2/MRMS_MultiSensor_QPE_01H_Pass2.latest.grib2.gz to data/MultiSensor_QPE_01H_Pass2_ALASKA.grib2\n",
      "Downloading https://mrms.ncep.noaa.gov/data/2D/CARIB/MultiSensor_QPE_01H_Pass2/MRMS_MultiSensor_QPE_01H_Pass2.latest.grib2.gz to data/MultiSensor_QPE_01H_Pass2_CARIB.grib2\n",
      "Downloading https://mrms.ncep.noaa.gov/data/2D/GUAM/MultiSensor_QPE_01H_Pass2/MRMS_MultiSensor_QPE_01H_Pass2.latest.grib2.gz to data/MultiSensor_QPE_01H_Pass2_GUAM.grib2\n",
      "Downloading https://mrms.ncep.noaa.gov/data/2D/HAWAII/MultiSensor_QPE_01H_Pass2/MRMS_MultiSensor_QPE_01H_Pass2.latest.grib2.gz to data/MultiSensor_QPE_01H_Pass2_HAWAII.grib2\n",
      "Downloading https://mrms.ncep.noaa.gov/data/2D/MultiSensor_QPE_24H_Pass2/MRMS_MultiSensor_QPE_24H_Pass2.latest.grib2.gz to data/MultiSensor_QPE_24H_Pass2.grib2\n",
      "Downloading https://mrms.ncep.noaa.gov/data/2D/ALASKA/MultiSensor_QPE_24H_Pass2/MRMS_MultiSensor_QPE_24H_Pass2.latest.grib2.gz to data/MultiSensor_QPE_24H_Pass2_ALASKA.grib2\n",
      "Downloading https://mrms.ncep.noaa.gov/data/2D/CARIB/MultiSensor_QPE_24H_Pass2/MRMS_MultiSensor_QPE_24H_Pass2.latest.grib2.gz to data/MultiSensor_QPE_24H_Pass2_CARIB.grib2\n",
      "Downloading https://mrms.ncep.noaa.gov/data/2D/GUAM/MultiSensor_QPE_24H_Pass2/MRMS_MultiSensor_QPE_24H_Pass2.latest.grib2.gz to data/MultiSensor_QPE_24H_Pass2_GUAM.grib2\n",
      "Downloading https://mrms.ncep.noaa.gov/data/2D/HAWAII/MultiSensor_QPE_24H_Pass2/MRMS_MultiSensor_QPE_24H_Pass2.latest.grib2.gz to data/MultiSensor_QPE_24H_Pass2_HAWAII.grib2\n"
     ]
    }
   ],
   "source": [
    "from dataclasses import dataclass\n",
    "import gzip\n",
    "import os\n",
    "from typing import Optional\n",
    "\n",
    "import requests\n",
    "\n",
    "@dataclass(frozen=True)\n",
    "class Download:\n",
    "    name: str\n",
    "    interval: str\n",
    "    pass_number: int\n",
    "    location: Optional[str]\n",
    "    url: str\n",
    "    path: str\n",
    "\n",
    "names = [\n",
    "    \"MultiSensor_QPE_01H_Pass1\",\n",
    "    \"MultiSensor_QPE_01H_Pass2\",\n",
    "    \"MultiSensor_QPE_24H_Pass2\",\n",
    "]\n",
    "locations = [\"\", \"ALASKA\", \"CARIB\", \"GUAM\", \"HAWAII\"]\n",
    "server = \"https://mrms.ncep.noaa.gov\"\n",
    "data_directory = \"data\"\n",
    "\n",
    "os.makedirs(data_directory, exist_ok=True)\n",
    "\n",
    "downloads = list()\n",
    "for name in names:\n",
    "    file_name = f\"MRMS_{name}.latest.grib2.gz\"\n",
    "    parts = name.split(\"_\")\n",
    "    interval = parts[-2] \n",
    "    pass_number = parts[-1][-1]\n",
    "    for location in locations:\n",
    "        path = \"/\".join(filter(None, [\"data\", \"2D\", location, name, file_name]))\n",
    "        url = f\"{server}/{path}\"\n",
    "        outfile = os.path.join(data_directory, \"_\".join(filter(None, [name, location])) + \".grib2\")\n",
    "        print(f\"Downloading {url} to {outfile}\")\n",
    "        response = requests.get(url)\n",
    "        with open(outfile, \"wb\") as f:\n",
    "            f.write(gzip.decompress(response.content))\n",
    "        downloads.append(Download(name=name, interval=interval, pass_number=pass_number, location=location or None, url=url, path=outfile))"
   ]
  },
  {
   "cell_type": "code",
   "execution_count": 2,
   "metadata": {},
   "outputs": [],
   "source": [
    "import numpy\n",
    "import rasterio\n",
    "import rasterio.plot\n",
    "from pandas import DataFrame\n",
    "\n",
    "rows = []\n",
    "for download in downloads:\n",
    "    with rasterio.open(download.path) as dataset:\n",
    "        data = dataset.read(1)\n",
    "        unique_negative_values = numpy.unique(data[data < 0])\n",
    "        min = numpy.min(data[data >= 0])\n",
    "        max = numpy.max(data[data >= 0])\n",
    "        rows.append([download.name, download.interval, download.pass_number, download.location or \"CONUS\", min, max, [str(v) for v in unique_negative_values], dataset.nodatavals])\n",
    "\n",
    "data_frame = DataFrame(rows, columns=[\"Name\", \"Interval\", \"Pass number\", \"Location\", \"Min\", \"Max\", \"Unique negative values\", \"Nodata values\"])"
   ]
  },
  {
   "cell_type": "code",
   "execution_count": 3,
   "metadata": {},
   "outputs": [
    {
     "name": "stdout",
     "output_type": "stream",
     "text": [
      "|    | Name                      | Interval   |   Pass number | Location   |   Min |   Max | Unique negative values   | Nodata values   |\n",
      "|----|---------------------------|------------|---------------|------------|-------|-------|--------------------------|-----------------|\n",
      "|  0 | MultiSensor_QPE_01H_Pass1 | 01H        |             1 | CONUS      |     0 |  82.8 | []                       | (None,)         |\n",
      "|  1 | MultiSensor_QPE_01H_Pass1 | 01H        |             1 | ALASKA     |     0 |  13.5 | []                       | (None,)         |\n",
      "|  2 | MultiSensor_QPE_01H_Pass1 | 01H        |             1 | CARIB      |     0 |  15.1 | ['-3.0']                 | (None,)         |\n",
      "|  3 | MultiSensor_QPE_01H_Pass1 | 01H        |             1 | GUAM       |     0 |  21.6 | ['-3.0']                 | (None,)         |\n",
      "|  4 | MultiSensor_QPE_01H_Pass1 | 01H        |             1 | HAWAII     |     0 |   6.4 | []                       | (None,)         |\n",
      "|  5 | MultiSensor_QPE_01H_Pass2 | 01H        |             2 | CONUS      |     0 |  72.4 | []                       | (None,)         |\n",
      "|  6 | MultiSensor_QPE_01H_Pass2 | 01H        |             2 | ALASKA     |     0 |  13.5 | []                       | (None,)         |\n",
      "|  7 | MultiSensor_QPE_01H_Pass2 | 01H        |             2 | CARIB      |     0 |  15.1 | ['-3.0']                 | (None,)         |\n",
      "|  8 | MultiSensor_QPE_01H_Pass2 | 01H        |             2 | GUAM       |     0 |  21.6 | ['-3.0']                 | (None,)         |\n",
      "|  9 | MultiSensor_QPE_01H_Pass2 | 01H        |             2 | HAWAII     |     0 |   6.4 | []                       | (None,)         |\n",
      "| 10 | MultiSensor_QPE_24H_Pass2 | 24H        |             2 | CONUS      |     0 | 253.5 | []                       | (None,)         |\n",
      "| 11 | MultiSensor_QPE_24H_Pass2 | 24H        |             2 | ALASKA     |     0 |  88.7 | []                       | (None,)         |\n",
      "| 12 | MultiSensor_QPE_24H_Pass2 | 24H        |             2 | CARIB      |     0 |  92.3 | ['-999.0']               | (None,)         |\n",
      "| 13 | MultiSensor_QPE_24H_Pass2 | 24H        |             2 | GUAM       |     0 |  63.4 | ['-999.0']               | (None,)         |\n",
      "| 14 | MultiSensor_QPE_24H_Pass2 | 24H        |             2 | HAWAII     |     0 |  70.9 | []                       | (None,)         |\n"
     ]
    }
   ],
   "source": [
    "import tabulate\n",
    "print(tabulate.tabulate(data_frame, headers=\"keys\", tablefmt=\"github\"))"
   ]
  }
 ],
 "metadata": {
  "kernelspec": {
   "display_name": "Python 3.9.13 ('noaa-mrms-qpe')",
   "language": "python",
   "name": "python3"
  },
  "language_info": {
   "codemirror_mode": {
    "name": "ipython",
    "version": 3
   },
   "file_extension": ".py",
   "mimetype": "text/x-python",
   "name": "python",
   "nbconvert_exporter": "python",
   "pygments_lexer": "ipython3",
   "version": "3.9.13"
  },
  "orig_nbformat": 4,
  "vscode": {
   "interpreter": {
    "hash": "a6d977bd847c23d9bc57c494d4e9fa62d9b35decf706d920e50b4978e21b9575"
   }
  }
 },
 "nbformat": 4,
 "nbformat_minor": 2
}
